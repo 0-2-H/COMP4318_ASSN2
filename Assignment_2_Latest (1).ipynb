{
  "cells": [
    {
      "cell_type": "markdown",
      "metadata": {
        "id": "o89xzpI7Dqa6"
      },
      "source": [
        "## Assignment 2\n",
        "\n",
        "# 2. Dataset description and Overview\n",
        "The dataset used for this assignment is a sample from [EMNIST handwritten character dataset - ByClass](https://www.nist.gov/itl/products-and-services/emnist-dataset), a collection of 814,255+ 28 by 28 images with character labels. This smaller sample set can be downloaded from the Google Drive link provided in the assignment specification. The dataset consists of 120000 amount images, of which 100,000 is split into a test set, which was further divided into a validation set after pre-processing, and a testing set of 20,000."
      ]
    },
    {
      "cell_type": "code",
      "execution_count": 10,
      "metadata": {},
      "outputs": [
        {
          "name": "stdout",
          "output_type": "stream",
          "text": [
            "2.17.0\n",
            "TensorFlow Version: 2.17.0\n",
            "Keras Version: 3.4.1\n"
          ]
        }
      ],
      "source": [
        "import tensorflow as tf\n",
        "print(tf.__version__)\n",
        "\n",
        "print(\"TensorFlow Version:\", tf.__version__)\n",
        "print(\"Keras Version:\", tf.keras.__version__)"
      ]
    },
    {
      "cell_type": "code",
      "execution_count": 11,
      "metadata": {},
      "outputs": [
        {
          "name": "stdout",
          "output_type": "stream",
          "text": [
            "Defaulting to user installation because normal site-packages is not writeable\n",
            "Requirement already satisfied: keras==3.4.1 in /home/calvin/.local/lib/python3.10/site-packages (3.4.1)\n",
            "Requirement already satisfied: optree in /home/calvin/.local/lib/python3.10/site-packages (from keras==3.4.1) (0.13.0)\n",
            "Requirement already satisfied: ml-dtypes in /home/calvin/.local/lib/python3.10/site-packages (from keras==3.4.1) (0.4.1)\n",
            "Requirement already satisfied: rich in /home/calvin/.local/lib/python3.10/site-packages (from keras==3.4.1) (13.9.2)\n",
            "Requirement already satisfied: packaging in /usr/lib/python3/dist-packages (from keras==3.4.1) (21.3)\n",
            "Requirement already satisfied: numpy in /home/calvin/.local/lib/python3.10/site-packages (from keras==3.4.1) (1.26.4)\n",
            "Requirement already satisfied: h5py in /home/calvin/.local/lib/python3.10/site-packages (from keras==3.4.1) (3.12.1)\n",
            "Requirement already satisfied: namex in /home/calvin/.local/lib/python3.10/site-packages (from keras==3.4.1) (0.0.8)\n",
            "Requirement already satisfied: absl-py in /home/calvin/.local/lib/python3.10/site-packages (from keras==3.4.1) (2.1.0)\n",
            "Requirement already satisfied: typing-extensions>=4.5.0 in /home/calvin/.local/lib/python3.10/site-packages (from optree->keras==3.4.1) (4.10.0)\n",
            "Requirement already satisfied: markdown-it-py>=2.2.0 in /home/calvin/.local/lib/python3.10/site-packages (from rich->keras==3.4.1) (3.0.0)\n",
            "Requirement already satisfied: pygments<3.0.0,>=2.13.0 in /home/calvin/.local/lib/python3.10/site-packages (from rich->keras==3.4.1) (2.18.0)\n",
            "Requirement already satisfied: mdurl~=0.1 in /home/calvin/.local/lib/python3.10/site-packages (from markdown-it-py>=2.2.0->rich->keras==3.4.1) (0.1.2)\n",
            "Defaulting to user installation because normal site-packages is not writeable\n",
            "Requirement already satisfied: seaborn in /home/calvin/.local/lib/python3.10/site-packages (0.13.2)\n",
            "Requirement already satisfied: pandas>=1.2 in /home/calvin/.local/lib/python3.10/site-packages (from seaborn) (2.2.1)\n",
            "Requirement already satisfied: numpy!=1.24.0,>=1.20 in /home/calvin/.local/lib/python3.10/site-packages (from seaborn) (1.26.4)\n",
            "Requirement already satisfied: matplotlib!=3.6.1,>=3.4 in /usr/lib/python3/dist-packages (from seaborn) (3.5.1)\n",
            "Requirement already satisfied: pytz>=2020.1 in /usr/lib/python3/dist-packages (from pandas>=1.2->seaborn) (2022.1)\n",
            "Requirement already satisfied: tzdata>=2022.7 in /home/calvin/.local/lib/python3.10/site-packages (from pandas>=1.2->seaborn) (2024.1)\n",
            "Requirement already satisfied: python-dateutil>=2.8.2 in /home/calvin/.local/lib/python3.10/site-packages (from pandas>=1.2->seaborn) (2.9.0.post0)\n",
            "Requirement already satisfied: six>=1.5 in /usr/lib/python3/dist-packages (from python-dateutil>=2.8.2->pandas>=1.2->seaborn) (1.16.0)\n"
          ]
        }
      ],
      "source": [
        "!pip install keras==3.4.1\n",
        "!pip install seaborn"
      ]
    },
    {
      "cell_type": "code",
      "execution_count": 12,
      "metadata": {
        "colab": {
          "base_uri": "https://localhost:8080/"
        },
        "id": "5r2-0R_-1A-Y",
        "outputId": "0ecd135d-58f6-4a87-c973-818f399fdb34"
      },
      "outputs": [],
      "source": [
        "#from google.colab import drive\n",
        "import numpy as np\n",
        "import matplotlib.pyplot as plt\n",
        "import sys\n",
        "import pandas as pd\n",
        "import sklearn\n",
        "import time\n",
        "import tensorflow as tf\n",
        "import keras\n",
        "from sklearn.model_selection import train_test_split\n",
        "from tensorflow.keras.preprocessing.image import ImageDataGenerator\n",
        "from sklearn.utils import class_weight\n",
        "\n",
        "\n",
        "#drive.mount('/content/drive')"
      ]
    },
    {
      "cell_type": "code",
      "execution_count": 13,
      "metadata": {},
      "outputs": [
        {
          "name": "stdout",
          "output_type": "stream",
          "text": [
            "Defaulting to user installation because normal site-packages is not writeable\n",
            "Requirement already satisfied: keras==3.4.1 in /home/calvin/.local/lib/python3.10/site-packages (3.4.1)\n",
            "Requirement already satisfied: optree in /home/calvin/.local/lib/python3.10/site-packages (from keras==3.4.1) (0.13.0)\n",
            "Requirement already satisfied: rich in /home/calvin/.local/lib/python3.10/site-packages (from keras==3.4.1) (13.9.2)\n",
            "Requirement already satisfied: packaging in /usr/lib/python3/dist-packages (from keras==3.4.1) (21.3)\n",
            "Requirement already satisfied: h5py in /home/calvin/.local/lib/python3.10/site-packages (from keras==3.4.1) (3.12.1)\n",
            "Requirement already satisfied: absl-py in /home/calvin/.local/lib/python3.10/site-packages (from keras==3.4.1) (2.1.0)\n",
            "Requirement already satisfied: ml-dtypes in /home/calvin/.local/lib/python3.10/site-packages (from keras==3.4.1) (0.4.1)\n",
            "Requirement already satisfied: numpy in /home/calvin/.local/lib/python3.10/site-packages (from keras==3.4.1) (1.26.4)\n",
            "Requirement already satisfied: namex in /home/calvin/.local/lib/python3.10/site-packages (from keras==3.4.1) (0.0.8)\n",
            "Requirement already satisfied: typing-extensions>=4.5.0 in /home/calvin/.local/lib/python3.10/site-packages (from optree->keras==3.4.1) (4.10.0)\n",
            "Requirement already satisfied: pygments<3.0.0,>=2.13.0 in /home/calvin/.local/lib/python3.10/site-packages (from rich->keras==3.4.1) (2.18.0)\n",
            "Requirement already satisfied: markdown-it-py>=2.2.0 in /home/calvin/.local/lib/python3.10/site-packages (from rich->keras==3.4.1) (3.0.0)\n",
            "Requirement already satisfied: mdurl~=0.1 in /home/calvin/.local/lib/python3.10/site-packages (from markdown-it-py>=2.2.0->rich->keras==3.4.1) (0.1.2)\n"
          ]
        }
      ],
      "source": [
        "!pip install keras==3.4.1"
      ]
    },
    {
      "cell_type": "code",
      "execution_count": 14,
      "metadata": {
        "colab": {
          "base_uri": "https://localhost:8080/"
        },
        "id": "2MyIDGGsImeR",
        "outputId": "8124ae5e-f3ff-4e28-ce54-30d7740d20da"
      },
      "outputs": [
        {
          "name": "stdout",
          "output_type": "stream",
          "text": [
            "/home/calvin/COMP4318_ASSN2\n",
            "Testing images shape: (20000, 28, 28)\n",
            "Training images shape: (100000, 28, 28)\n",
            "Training Labels shape: (100000,)\n"
          ]
        }
      ],
      "source": [
        "import pickle\n",
        "import os\n",
        "import sys\n",
        "\n",
        "print(os.getcwd())\n",
        "\n",
        "content_path = ''\n",
        "\n",
        "train_dict = pickle.load(open(os.path.join(content_path, 'emnist_train.pkl'), 'rb'))\n",
        "test_dict = pickle.load(open(os.path.join(content_path, 'emnist_test.pkl'), 'rb'))\n",
        "\n",
        "# Extract the images and labels from the dictionaries\n",
        "train_images = train_dict['data']\n",
        "train_labels = train_dict['labels']\n",
        "test_images = test_dict['data']\n",
        "test_labels = test_dict['labels']\n",
        "print(\"Testing images shape:\", test_images.shape)\n",
        "print(\"Training images shape:\", train_images.shape)\n",
        "print(\"Training Labels shape:\", train_labels.shape)\n"
      ]
    },
    {
      "cell_type": "code",
      "execution_count": 15,
      "metadata": {
        "colab": {
          "base_uri": "https://localhost:8080/",
          "height": 135
        },
        "id": "beWlCH8J5Pm6",
        "outputId": "63406046-7579-461c-f378-3e07d72c127a"
      },
      "outputs": [
        {
          "data": {
            "image/png": "[encoded data removed]",
            "text/plain": [
              "<Figure size 1500x500 with 10 Axes>"
            ]
          },
          "metadata": {},
          "output_type": "display_data"
        }
      ],
      "source": [
        "# Number of images to display\n",
        "num_images = 10\n",
        "\n",
        "# Create a figure and axes for the grid\n",
        "fig, axes = plt.subplots(1, num_images, figsize=(15, 5))\n",
        "\n",
        "# Iterate through the sample images\n",
        "for i in range(num_images):\n",
        "  # Select a random image\n",
        "  random_index = np.random.randint(0, len(train_images))\n",
        "  image = np.rot90(train_images[random_index].reshape(28, 28),k=1)\n",
        "  # Display the image\n",
        "  axes[i].imshow(image, cmap='gray')\n",
        "  axes[i].axis('off')\n",
        "\n",
        "plt.show()\n"
      ]
    },
    {
      "cell_type": "code",
      "execution_count": 16,
      "metadata": {
        "colab": {
          "base_uri": "https://localhost:8080/",
          "height": 607
        },
        "id": "6W-lK4vM2yLH",
        "outputId": "73e9ba62-bf14-4bd4-83ec-54cc56b2ece0"
      },
      "outputs": [
        {
          "data": {
            "image/png": "[encoded data removed]",
            "text/plain": [
              "<Figure size 1200x600 with 2 Axes>"
            ]
          },
          "metadata": {},
          "output_type": "display_data"
        }
      ],
      "source": [
        "# Calculate the frequency of each label in the training set\n",
        "train_label_counts = {}\n",
        "for label in train_labels:\n",
        "  if label not in train_label_counts:\n",
        "    train_label_counts[label] = 0\n",
        "  train_label_counts[label] += 1\n",
        "\n",
        "# Calculate the frequency of each label in the testing set\n",
        "test_label_counts = {}\n",
        "for label in test_labels:\n",
        "  if label not in test_label_counts:\n",
        "    test_label_counts[label] = 0\n",
        "  test_label_counts[label] += 1\n",
        "\n",
        "\n",
        "# Plot the histogram of training labels\n",
        "plt.figure(figsize=(12, 6))\n",
        "plt.subplot(1, 2, 1)\n",
        "plt.bar(train_label_counts.keys(), train_label_counts.values())\n",
        "plt.title('Training Label Distribution')\n",
        "plt.xlabel('Label')\n",
        "plt.ylabel('Frequency')\n",
        "\n",
        "# Plot the histogram of testing labels\n",
        "plt.subplot(1, 2, 2)\n",
        "plt.bar(test_label_counts.keys(), test_label_counts.values())\n",
        "plt.title('Testing Label Distribution')\n",
        "plt.xlabel('Label')\n",
        "plt.ylabel('Frequency')\n",
        "\n",
        "plt.tight_layout()\n",
        "plt.show()\n"
      ]
    },
    {
      "cell_type": "code",
      "execution_count": null,
      "metadata": {
        "id": "ltbzztzohP6D"
      },
      "outputs": [],
      "source": []
    },
    {
      "cell_type": "markdown",
      "metadata": {
        "id": "CiAOWyUnE183"
      },
      "source": [
        "# 3. Data Preparation\n",
        "\n",
        "Requred data is provided in a folder that contains a .mat file which is to be loaded in and then XXXX\n",
        "\n",
        "The folder includes:\n",
        "\n",
        "Folder details\n",
        "\n",
        "\n",
        "## 3.1 Merging Classes\n",
        "\n",
        "Due to the similarities of Uppercase and Lowercase letters, as suggested by the dataset specific images will be merged, for example lowercase 'k' is similar to uppercase \"K\"\n"
      ]
    },
    {
      "cell_type": "code",
      "execution_count": 17,
      "metadata": {
        "colab": {
          "base_uri": "https://localhost:8080/",
          "height": 367
        },
        "id": "9kpHM81cfxI8",
        "outputId": "6b0c2196-b675-4d05-85d0-f394e101e8f3"
      },
      "outputs": [
        {
          "data": {
            "image/png": "[encoded data removed]",
            "text/plain": [
              "<Figure size 1000x200 with 5 Axes>"
            ]
          },
          "metadata": {},
          "output_type": "display_data"
        },
        {
          "data": {
            "image/png": "[encoded data removed]",
            "text/plain": [
              "<Figure size 1000x200 with 5 Axes>"
            ]
          },
          "metadata": {},
          "output_type": "display_data"
        }
      ],
      "source": [
        "def display_images_by_label(images, labels, target_label, num_samples=5):\n",
        "    # Find the indices of images with the target label\n",
        "    indices = np.where(labels == target_label)[0]\n",
        "\n",
        "    # Display a few images with the specified label\n",
        "    if len(indices) == 0:\n",
        "        print(f\"No images found for label {target_label}\")\n",
        "        return\n",
        "\n",
        "    # Limit to the specified number of samples\n",
        "    indices = indices[:num_samples]\n",
        "\n",
        "    plt.figure(figsize=(10, 2))\n",
        "    for i, idx in enumerate(indices):\n",
        "        plt.subplot(1, num_samples, i + 1)\n",
        "        rotated_image = np.rot90(images[idx].reshape(28, 28), k=1)\n",
        "\n",
        "        # Display the rotated image\n",
        "        plt.imshow(rotated_image, cmap='gray')\n",
        "        plt.title(f\"Label: {labels[idx]}\")\n",
        "        plt.axis('off')\n",
        "    plt.show()\n",
        "\n",
        "# Example usage:\n",
        "# For example, 38 is 'c' and 12 is 'C' in the original EMNIST ByClass labels.\n",
        "display_images_by_label(train_images, train_labels, target_label=46, num_samples=5)  # Display lowercase 'c'\n",
        "display_images_by_label(train_images, train_labels, target_label=20, num_samples=5)  # Display uppercase 'C'"
      ]
    },
    {
      "cell_type": "code",
      "execution_count": 18,
      "metadata": {
        "colab": {
          "base_uri": "https://localhost:8080/"
        },
        "id": "owSCeMfRjRER",
        "outputId": "f9f1f457-41e0-4471-e55e-d1e32fb9c9f5"
      },
      "outputs": [
        {
          "name": "stdout",
          "output_type": "stream",
          "text": [
            "Number of unique labels in the training set: 47\n",
            "Number of unique labels in the testing set: 47\n"
          ]
        }
      ],
      "source": [
        "merge_dictionary = {\n",
        "        38: 12,  # 'c' -> 'C'\n",
        "        44: 18,  # 'i' -> 'I'\n",
        "        45: 19,  # 'j' -> 'J'\n",
        "        46: 20,  # 'k' -> 'K'\n",
        "        47: 21,  # 'l' -> 'L'\n",
        "        48: 22,  # 'm' -> 'M'\n",
        "        50: 24,  # 'o' -> 'O'\n",
        "        51: 25,  # 'p' -> 'P'\n",
        "        54: 28,  # 's' -> 'S'\n",
        "        56: 30,  # 'u' -> 'U'\n",
        "        57: 31,  # 'v' -> 'V'\n",
        "        58: 32,  # 'w' -> 'W'\n",
        "        59: 33,  # 'x' -> 'X'\n",
        "        60: 34,  # 'y' -> 'Y'\n",
        "        61: 35   # 'z' -> 'Z'\n",
        "    }\n",
        "\n",
        "def merge_labels(labels, merge_dictionary):\n",
        "    merged_labels = np.copy(labels)\n",
        "    for old_label, new_label in merge_dictionary.items():\n",
        "        merged_labels[labels == old_label] = new_label\n",
        "    return merged_labels\n",
        "\n",
        "#Step 0\n",
        "# Merge the labels\n",
        "train_labels = merge_labels(train_labels, merge_dictionary)\n",
        "test_labels = merge_labels(test_labels, merge_dictionary)\n",
        "#Print Number of unique labels\n",
        "print(\"Number of unique labels in the training set:\", len(np.unique(train_labels)))\n",
        "print(\"Number of unique labels in the testing set:\", len(np.unique(test_labels)))"
      ]
    },
    {
      "cell_type": "code",
      "execution_count": 19,
      "metadata": {
        "colab": {
          "base_uri": "https://localhost:8080/"
        },
        "id": "r1iyLgahIY6s",
        "outputId": "623dcc24-f651-4ee2-e8db-c297a67624f6"
      },
      "outputs": [
        {
          "name": "stdout",
          "output_type": "stream",
          "text": [
            "Mapped characters: ['0', 'C', 'Z', 't']\n"
          ]
        }
      ],
      "source": [
        "# Full list of labels for the merged EMNIST dataset\n",
        "label_mapping = [\n",
        "    '0', '1', '2', '3', '4', '5', '6', '7', '8', '9',  # Digits (0-9)\n",
        "    'A', 'B', 'C', 'D', 'E', 'F', 'G', 'H', 'I', 'J',  # Letters (10-19)\n",
        "    'K', 'L', 'M', 'N', 'O', 'P', 'Q', 'R', 'S', 'T',  # Letters (20-29)\n",
        "    'U', 'V', 'W', 'X', 'Y', 'Z',                      # Letters (30-35)\n",
        "    'a', 'b', 'd', 'e', 'f', 'g', 'h', 'n', 'q', 'r',  # Lowercase that aren't merged (36-45)\n",
        "    't'                                                 # Remaining lowercase letter (46)\n",
        "]\n",
        "def map_labels_to_characters(label_indices):\n",
        "    return [label_mapping[index] for index in label_indices]\n",
        "\n",
        "sample_labels = [0, 12, 35, 46]\n",
        "mapped_characters = map_labels_to_characters(sample_labels)\n",
        "print(\"Mapped characters:\", mapped_characters)"
      ]
    },
    {
      "cell_type": "code",
      "execution_count": 20,
      "metadata": {
        "colab": {
          "base_uri": "https://localhost:8080/"
        },
        "id": "cJ49_F_pFAFL",
        "outputId": "67ca5b83-5ffa-4f42-a2af-be6c83fafe57"
      },
      "outputs": [
        {
          "name": "stdout",
          "output_type": "stream",
          "text": [
            "Train images shape (after reshaping): (90000, 28, 28, 1)\n",
            "Validation images shape: (10000, 28, 28, 1)\n",
            "Test images shape (after reshaping): (20000, 28, 28, 1)\n",
            "Class weights for balancing: {0: 0.42954096388992297, 1: 0.38251969976453787, 2: 0.4321583428168081, 3: 0.421968624288514, 4: 0.45098766298193044, 5: 0.4541967782308531, 6: 0.43235349221523517, 7: 0.414120591916366, 8: 0.44357044637972587, 9: 0.43372448856654056, 10: 2.33523611831863, 11: 3.732736095558044, 12: 1.1283993028999861, 13: 3.223726627981947, 14: 2.9459901800327333, 15: 1.5695849319846529, 16: 5.946874587022598, 17: 4.474050507059057, 18: 1.0234599770290094, 19: 2.486874827300359, 20: 3.0638297872340425, 21: 0.7206976353109811, 22: 1.2673021952490249, 23: 1.736077621959453, 24: 0.5440038684719536, 25: 1.435452486522696, 26: 5.733214422219391, 27: 2.7711919204360007, 28: 0.6502185456778529, 29: 1.5442690459849004, 30: 0.9603277918862972, 31: 2.015677491601344, 32: 1.9539730785931393, 33: 2.5772457833395377, 34: 2.1182451515722085, 35: 2.8036509766050903, 36: 1.524596828838596, 37: 2.927971891469842, 38: 1.5125541998588283, 39: 0.6048305802341366, 40: 5.275189027606823, 41: 4.180990430177459, 42: 1.7487612940833577, 43: 1.3187972569017057, 44: 5.246283882250073, 45: 1.0446773688059339, 46: 0.8278831029058696}\n"
          ]
        }
      ],
      "source": [
        "import numpy as np\n",
        "from sklearn.model_selection import train_test_split\n",
        "from tensorflow.keras.preprocessing.image import ImageDataGenerator\n",
        "from sklearn.preprocessing import LabelEncoder\n",
        "from sklearn.utils import class_weight\n",
        "import tensorflow as tf\n",
        "\n",
        "# Step 1: Label Encoding\n",
        "label_encoder = LabelEncoder()\n",
        "label_encoder.fit(train_labels)\n",
        "train_labels = label_encoder.transform(train_labels)\n",
        "test_labels = label_encoder.transform(test_labels)\n",
        "\n",
        "# Step 2: Normalize the pixel values (0-255) to the range [0, 1]\n",
        "train_images = train_images.astype('float32') / 255.0\n",
        "test_images = test_images.astype('float32') / 255.0\n",
        "\n",
        "# Step 3: Reshape the images for model input\n",
        "N_train = train_images.shape[0]  # Number of training images\n",
        "N_test = test_images.shape[0]    # Number of testing images\n",
        "\n",
        "# Reshape the images to (N, 28, 28, 1)\n",
        "train_images = train_images.reshape(N_train, 28, 28, 1)\n",
        "test_images = test_images.reshape(N_test, 28, 28, 1)\n",
        "\n",
        "# Step 4: Validation set split\n",
        "X_train, X_valid, y_train, y_valid = train_test_split(train_images, train_labels, train_size=0.9, random_state=42)\n",
        "\n",
        "# Step 5: Data Augmentation for training data\n",
        "train_datagen = ImageDataGenerator(\n",
        "    rotation_range=10,       # Randomly rotate images by up to 10 degrees\n",
        "    width_shift_range=0.1,   # Randomly shift images horizontally by up to 10% of width\n",
        "    height_shift_range=0.1,  # Randomly shift images vertically by up to 10% of height\n",
        "    zoom_range=0.1           # Randomly zoom into images by up to 10%\n",
        ")\n",
        "\n",
        "# No augmentation for validation data, just rescaling\n",
        "valid_datagen = ImageDataGenerator()\n",
        "\n",
        "# Step 6: Fit the data generator on the training images (optional)\n",
        "train_datagen.fit(X_train)\n",
        "\n",
        "# Step 7: Class Rebalancing\n",
        "# Compute class weights to account for class imbalance\n",
        "classes = np.unique(y_train)\n",
        "class_weights = class_weight.compute_class_weight(class_weight='balanced', classes=classes, y=y_train)\n",
        "class_weights_dict = dict(enumerate(class_weights))\n",
        "\n",
        "# Step 8: Convert data to appropriate types\n",
        "X_train = X_train.astype('float32')\n",
        "y_train = y_train.astype('int64')\n",
        "X_valid = X_valid.astype('float32')\n",
        "y_valid = y_valid.astype('int64')\n",
        "\n",
        "# Print summary of preprocessing steps\n",
        "print(\"Train images shape (after reshaping):\", X_train.shape)\n",
        "print(\"Validation images shape:\", X_valid.shape)\n",
        "print(\"Test images shape (after reshaping):\", test_images.shape)\n",
        "print(\"Class weights for balancing:\", class_weights_dict)"
      ]
    },
    {
      "cell_type": "markdown",
      "metadata": {
        "id": "L8Wg9pWAQEFh"
      },
      "source": [
        "Defining Initial CNN to Expound upon"
      ]
    },
    {
      "cell_type": "code",
      "execution_count": 21,
      "metadata": {
        "colab": {
          "base_uri": "https://localhost:8080/",
          "height": 1000
        },
        "id": "f0fem5i2PDHN",
        "outputId": "70119219-9fe4-4ae8-8f34-c5061df13b5b"
      },
      "outputs": [
        {
          "name": "stderr",
          "output_type": "stream",
          "text": [
            "WARNING: All log messages before absl::InitializeLog() is called are written to STDERR\n",
            "I0000 00:00:1728477655.261783  587489 cuda_executor.cc:1015] successful NUMA node read from SysFS had negative value (-1), but there must be at least one NUMA node, so returning NUMA node zero. See more at https://github.com/torvalds/linux/blob/v6.0/Documentation/ABI/testing/sysfs-bus-pci#L344-L355\n",
            "I0000 00:00:1728477655.261918  587489 cuda_executor.cc:1015] successful NUMA node read from SysFS had negative value (-1), but there must be at least one NUMA node, so returning NUMA node zero. See more at https://github.com/torvalds/linux/blob/v6.0/Documentation/ABI/testing/sysfs-bus-pci#L344-L355\n",
            "2024-10-09 23:40:55.283085: W tensorflow/core/common_runtime/gpu/gpu_device.cc:2343] Cannot dlopen some GPU libraries. Please make sure the missing libraries mentioned above are installed properly if you would like to use GPU. Follow the guide at https://www.tensorflow.org/install/gpu for how to download and setup the required libraries for your platform.\n",
            "Skipping registering GPU devices...\n"
          ]
        },
        {
          "data": {
            "text/html": [
              "<pre style=\"white-space:pre;overflow-x:auto;line-height:normal;font-family:Menlo,'DejaVu Sans Mono',consolas,'Courier New',monospace\"><span style=\"font-weight: bold\">Model: \"sequential_1\"</span>\n",
              "</pre>\n"
            ],
            "text/plain": [
              "\u001b[1mModel: \"sequential_1\"\u001b[0m\n"
            ]
          },
          "metadata": {},
          "output_type": "display_data"
        },
        {
          "data": {
            "text/html": [
              "<pre style=\"white-space:pre;overflow-x:auto;line-height:normal;font-family:Menlo,'DejaVu Sans Mono',consolas,'Courier New',monospace\">┏━━━━━━━━━━━━━━━━━━━━━━━━━━━━━━━━━┳━━━━━━━━━━━━━━━━━━━━━━━━┳━━━━━━━━━━━━━━━┓\n",
              "┃<span style=\"font-weight: bold\"> Layer (type)                    </span>┃<span style=\"font-weight: bold\"> Output Shape           </span>┃<span style=\"font-weight: bold\">       Param # </span>┃\n",
              "┡━━━━━━━━━━━━━━━━━━━━━━━━━━━━━━━━━╇━━━━━━━━━━━━━━━━━━━━━━━━╇━━━━━━━━━━━━━━━┩\n",
              "│ conv2d (<span style=\"color: #0087ff; text-decoration-color: #0087ff\">Conv2D</span>)                 │ (<span style=\"color: #00d7ff; text-decoration-color: #00d7ff\">None</span>, <span style=\"color: #00af00; text-decoration-color: #00af00\">28</span>, <span style=\"color: #00af00; text-decoration-color: #00af00\">28</span>, <span style=\"color: #00af00; text-decoration-color: #00af00\">32</span>)     │           <span style=\"color: #00af00; text-decoration-color: #00af00\">320</span> │\n",
              "├─────────────────────────────────┼────────────────────────┼───────────────┤\n",
              "│ batch_normalization             │ (<span style=\"color: #00d7ff; text-decoration-color: #00d7ff\">None</span>, <span style=\"color: #00af00; text-decoration-color: #00af00\">28</span>, <span style=\"color: #00af00; text-decoration-color: #00af00\">28</span>, <span style=\"color: #00af00; text-decoration-color: #00af00\">32</span>)     │           <span style=\"color: #00af00; text-decoration-color: #00af00\">128</span> │\n",
              "│ (<span style=\"color: #0087ff; text-decoration-color: #0087ff\">BatchNormalization</span>)            │                        │               │\n",
              "├─────────────────────────────────┼────────────────────────┼───────────────┤\n",
              "│ re_lu (<span style=\"color: #0087ff; text-decoration-color: #0087ff\">ReLU</span>)                    │ (<span style=\"color: #00d7ff; text-decoration-color: #00d7ff\">None</span>, <span style=\"color: #00af00; text-decoration-color: #00af00\">28</span>, <span style=\"color: #00af00; text-decoration-color: #00af00\">28</span>, <span style=\"color: #00af00; text-decoration-color: #00af00\">32</span>)     │             <span style=\"color: #00af00; text-decoration-color: #00af00\">0</span> │\n",
              "├─────────────────────────────────┼────────────────────────┼───────────────┤\n",
              "│ max_pooling2d (<span style=\"color: #0087ff; text-decoration-color: #0087ff\">MaxPooling2D</span>)    │ (<span style=\"color: #00d7ff; text-decoration-color: #00d7ff\">None</span>, <span style=\"color: #00af00; text-decoration-color: #00af00\">14</span>, <span style=\"color: #00af00; text-decoration-color: #00af00\">14</span>, <span style=\"color: #00af00; text-decoration-color: #00af00\">32</span>)     │             <span style=\"color: #00af00; text-decoration-color: #00af00\">0</span> │\n",
              "├─────────────────────────────────┼────────────────────────┼───────────────┤\n",
              "│ conv2d_1 (<span style=\"color: #0087ff; text-decoration-color: #0087ff\">Conv2D</span>)               │ (<span style=\"color: #00d7ff; text-decoration-color: #00d7ff\">None</span>, <span style=\"color: #00af00; text-decoration-color: #00af00\">14</span>, <span style=\"color: #00af00; text-decoration-color: #00af00\">14</span>, <span style=\"color: #00af00; text-decoration-color: #00af00\">48</span>)     │        <span style=\"color: #00af00; text-decoration-color: #00af00\">13,872</span> │\n",
              "├─────────────────────────────────┼────────────────────────┼───────────────┤\n",
              "│ batch_normalization_1           │ (<span style=\"color: #00d7ff; text-decoration-color: #00d7ff\">None</span>, <span style=\"color: #00af00; text-decoration-color: #00af00\">14</span>, <span style=\"color: #00af00; text-decoration-color: #00af00\">14</span>, <span style=\"color: #00af00; text-decoration-color: #00af00\">48</span>)     │           <span style=\"color: #00af00; text-decoration-color: #00af00\">192</span> │\n",
              "│ (<span style=\"color: #0087ff; text-decoration-color: #0087ff\">BatchNormalization</span>)            │                        │               │\n",
              "├─────────────────────────────────┼────────────────────────┼───────────────┤\n",
              "│ re_lu_1 (<span style=\"color: #0087ff; text-decoration-color: #0087ff\">ReLU</span>)                  │ (<span style=\"color: #00d7ff; text-decoration-color: #00d7ff\">None</span>, <span style=\"color: #00af00; text-decoration-color: #00af00\">14</span>, <span style=\"color: #00af00; text-decoration-color: #00af00\">14</span>, <span style=\"color: #00af00; text-decoration-color: #00af00\">48</span>)     │             <span style=\"color: #00af00; text-decoration-color: #00af00\">0</span> │\n",
              "├─────────────────────────────────┼────────────────────────┼───────────────┤\n",
              "│ max_pooling2d_1 (<span style=\"color: #0087ff; text-decoration-color: #0087ff\">MaxPooling2D</span>)  │ (<span style=\"color: #00d7ff; text-decoration-color: #00d7ff\">None</span>, <span style=\"color: #00af00; text-decoration-color: #00af00\">7</span>, <span style=\"color: #00af00; text-decoration-color: #00af00\">7</span>, <span style=\"color: #00af00; text-decoration-color: #00af00\">48</span>)       │             <span style=\"color: #00af00; text-decoration-color: #00af00\">0</span> │\n",
              "├─────────────────────────────────┼────────────────────────┼───────────────┤\n",
              "│ conv2d_2 (<span style=\"color: #0087ff; text-decoration-color: #0087ff\">Conv2D</span>)               │ (<span style=\"color: #00d7ff; text-decoration-color: #00d7ff\">None</span>, <span style=\"color: #00af00; text-decoration-color: #00af00\">7</span>, <span style=\"color: #00af00; text-decoration-color: #00af00\">7</span>, <span style=\"color: #00af00; text-decoration-color: #00af00\">64</span>)       │        <span style=\"color: #00af00; text-decoration-color: #00af00\">27,712</span> │\n",
              "├─────────────────────────────────┼────────────────────────┼───────────────┤\n",
              "│ batch_normalization_2           │ (<span style=\"color: #00d7ff; text-decoration-color: #00d7ff\">None</span>, <span style=\"color: #00af00; text-decoration-color: #00af00\">7</span>, <span style=\"color: #00af00; text-decoration-color: #00af00\">7</span>, <span style=\"color: #00af00; text-decoration-color: #00af00\">64</span>)       │           <span style=\"color: #00af00; text-decoration-color: #00af00\">256</span> │\n",
              "│ (<span style=\"color: #0087ff; text-decoration-color: #0087ff\">BatchNormalization</span>)            │                        │               │\n",
              "├─────────────────────────────────┼────────────────────────┼───────────────┤\n",
              "│ re_lu_2 (<span style=\"color: #0087ff; text-decoration-color: #0087ff\">ReLU</span>)                  │ (<span style=\"color: #00d7ff; text-decoration-color: #00d7ff\">None</span>, <span style=\"color: #00af00; text-decoration-color: #00af00\">7</span>, <span style=\"color: #00af00; text-decoration-color: #00af00\">7</span>, <span style=\"color: #00af00; text-decoration-color: #00af00\">64</span>)       │             <span style=\"color: #00af00; text-decoration-color: #00af00\">0</span> │\n",
              "├─────────────────────────────────┼────────────────────────┼───────────────┤\n",
              "│ conv2d_3 (<span style=\"color: #0087ff; text-decoration-color: #0087ff\">Conv2D</span>)               │ (<span style=\"color: #00d7ff; text-decoration-color: #00d7ff\">None</span>, <span style=\"color: #00af00; text-decoration-color: #00af00\">7</span>, <span style=\"color: #00af00; text-decoration-color: #00af00\">7</span>, <span style=\"color: #00af00; text-decoration-color: #00af00\">128</span>)      │        <span style=\"color: #00af00; text-decoration-color: #00af00\">73,856</span> │\n",
              "├─────────────────────────────────┼────────────────────────┼───────────────┤\n",
              "│ batch_normalization_3           │ (<span style=\"color: #00d7ff; text-decoration-color: #00d7ff\">None</span>, <span style=\"color: #00af00; text-decoration-color: #00af00\">7</span>, <span style=\"color: #00af00; text-decoration-color: #00af00\">7</span>, <span style=\"color: #00af00; text-decoration-color: #00af00\">128</span>)      │           <span style=\"color: #00af00; text-decoration-color: #00af00\">512</span> │\n",
              "│ (<span style=\"color: #0087ff; text-decoration-color: #0087ff\">BatchNormalization</span>)            │                        │               │\n",
              "├─────────────────────────────────┼────────────────────────┼───────────────┤\n",
              "│ re_lu_3 (<span style=\"color: #0087ff; text-decoration-color: #0087ff\">ReLU</span>)                  │ (<span style=\"color: #00d7ff; text-decoration-color: #00d7ff\">None</span>, <span style=\"color: #00af00; text-decoration-color: #00af00\">7</span>, <span style=\"color: #00af00; text-decoration-color: #00af00\">7</span>, <span style=\"color: #00af00; text-decoration-color: #00af00\">128</span>)      │             <span style=\"color: #00af00; text-decoration-color: #00af00\">0</span> │\n",
              "├─────────────────────────────────┼────────────────────────┼───────────────┤\n",
              "│ max_pooling2d_2 (<span style=\"color: #0087ff; text-decoration-color: #0087ff\">MaxPooling2D</span>)  │ (<span style=\"color: #00d7ff; text-decoration-color: #00d7ff\">None</span>, <span style=\"color: #00af00; text-decoration-color: #00af00\">3</span>, <span style=\"color: #00af00; text-decoration-color: #00af00\">3</span>, <span style=\"color: #00af00; text-decoration-color: #00af00\">128</span>)      │             <span style=\"color: #00af00; text-decoration-color: #00af00\">0</span> │\n",
              "├─────────────────────────────────┼────────────────────────┼───────────────┤\n",
              "│ flatten (<span style=\"color: #0087ff; text-decoration-color: #0087ff\">Flatten</span>)               │ (<span style=\"color: #00d7ff; text-decoration-color: #00d7ff\">None</span>, <span style=\"color: #00af00; text-decoration-color: #00af00\">1152</span>)           │             <span style=\"color: #00af00; text-decoration-color: #00af00\">0</span> │\n",
              "├─────────────────────────────────┼────────────────────────┼───────────────┤\n",
              "│ dense (<span style=\"color: #0087ff; text-decoration-color: #0087ff\">Dense</span>)                   │ (<span style=\"color: #00d7ff; text-decoration-color: #00d7ff\">None</span>, <span style=\"color: #00af00; text-decoration-color: #00af00\">128</span>)            │       <span style=\"color: #00af00; text-decoration-color: #00af00\">147,584</span> │\n",
              "├─────────────────────────────────┼────────────────────────┼───────────────┤\n",
              "│ batch_normalization_4           │ (<span style=\"color: #00d7ff; text-decoration-color: #00d7ff\">None</span>, <span style=\"color: #00af00; text-decoration-color: #00af00\">128</span>)            │           <span style=\"color: #00af00; text-decoration-color: #00af00\">512</span> │\n",
              "│ (<span style=\"color: #0087ff; text-decoration-color: #0087ff\">BatchNormalization</span>)            │                        │               │\n",
              "├─────────────────────────────────┼────────────────────────┼───────────────┤\n",
              "│ re_lu_4 (<span style=\"color: #0087ff; text-decoration-color: #0087ff\">ReLU</span>)                  │ (<span style=\"color: #00d7ff; text-decoration-color: #00d7ff\">None</span>, <span style=\"color: #00af00; text-decoration-color: #00af00\">128</span>)            │             <span style=\"color: #00af00; text-decoration-color: #00af00\">0</span> │\n",
              "├─────────────────────────────────┼────────────────────────┼───────────────┤\n",
              "│ dropout (<span style=\"color: #0087ff; text-decoration-color: #0087ff\">Dropout</span>)               │ (<span style=\"color: #00d7ff; text-decoration-color: #00d7ff\">None</span>, <span style=\"color: #00af00; text-decoration-color: #00af00\">128</span>)            │             <span style=\"color: #00af00; text-decoration-color: #00af00\">0</span> │\n",
              "├─────────────────────────────────┼────────────────────────┼───────────────┤\n",
              "│ dense_1 (<span style=\"color: #0087ff; text-decoration-color: #0087ff\">Dense</span>)                 │ (<span style=\"color: #00d7ff; text-decoration-color: #00d7ff\">None</span>, <span style=\"color: #00af00; text-decoration-color: #00af00\">128</span>)            │        <span style=\"color: #00af00; text-decoration-color: #00af00\">16,512</span> │\n",
              "├─────────────────────────────────┼────────────────────────┼───────────────┤\n",
              "│ batch_normalization_5           │ (<span style=\"color: #00d7ff; text-decoration-color: #00d7ff\">None</span>, <span style=\"color: #00af00; text-decoration-color: #00af00\">128</span>)            │           <span style=\"color: #00af00; text-decoration-color: #00af00\">512</span> │\n",
              "│ (<span style=\"color: #0087ff; text-decoration-color: #0087ff\">BatchNormalization</span>)            │                        │               │\n",
              "├─────────────────────────────────┼────────────────────────┼───────────────┤\n",
              "│ re_lu_5 (<span style=\"color: #0087ff; text-decoration-color: #0087ff\">ReLU</span>)                  │ (<span style=\"color: #00d7ff; text-decoration-color: #00d7ff\">None</span>, <span style=\"color: #00af00; text-decoration-color: #00af00\">128</span>)            │             <span style=\"color: #00af00; text-decoration-color: #00af00\">0</span> │\n",
              "├─────────────────────────────────┼────────────────────────┼───────────────┤\n",
              "│ dropout_1 (<span style=\"color: #0087ff; text-decoration-color: #0087ff\">Dropout</span>)             │ (<span style=\"color: #00d7ff; text-decoration-color: #00d7ff\">None</span>, <span style=\"color: #00af00; text-decoration-color: #00af00\">128</span>)            │             <span style=\"color: #00af00; text-decoration-color: #00af00\">0</span> │\n",
              "├─────────────────────────────────┼────────────────────────┼───────────────┤\n",
              "│ dense_2 (<span style=\"color: #0087ff; text-decoration-color: #0087ff\">Dense</span>)                 │ (<span style=\"color: #00d7ff; text-decoration-color: #00d7ff\">None</span>, <span style=\"color: #00af00; text-decoration-color: #00af00\">47</span>)             │         <span style=\"color: #00af00; text-decoration-color: #00af00\">6,063</span> │\n",
              "└─────────────────────────────────┴────────────────────────┴───────────────┘\n",
              "</pre>\n"
            ],
            "text/plain": [
              "┏━━━━━━━━━━━━━━━━━━━━━━━━━━━━━━━━━┳━━━━━━━━━━━━━━━━━━━━━━━━┳━━━━━━━━━━━━━━━┓\n",
              "┃\u001b[1m \u001b[0m\u001b[1mLayer (type)                   \u001b[0m\u001b[1m \u001b[0m┃\u001b[1m \u001b[0m\u001b[1mOutput Shape          \u001b[0m\u001b[1m \u001b[0m┃\u001b[1m \u001b[0m\u001b[1m      Param #\u001b[0m\u001b[1m \u001b[0m┃\n",
              "┡━━━━━━━━━━━━━━━━━━━━━━━━━━━━━━━━━╇━━━━━━━━━━━━━━━━━━━━━━━━╇━━━━━━━━━━━━━━━┩\n",
              "│ conv2d (\u001b[38;5;33mConv2D\u001b[0m)                 │ (\u001b[38;5;45mNone\u001b[0m, \u001b[38;5;34m28\u001b[0m, \u001b[38;5;34m28\u001b[0m, \u001b[38;5;34m32\u001b[0m)     │           \u001b[38;5;34m320\u001b[0m │\n",
              "├─────────────────────────────────┼────────────────────────┼───────────────┤\n",
              "│ batch_normalization             │ (\u001b[38;5;45mNone\u001b[0m, \u001b[38;5;34m28\u001b[0m, \u001b[38;5;34m28\u001b[0m, \u001b[38;5;34m32\u001b[0m)     │           \u001b[38;5;34m128\u001b[0m │\n",
              "│ (\u001b[38;5;33mBatchNormalization\u001b[0m)            │                        │               │\n",
              "├─────────────────────────────────┼────────────────────────┼───────────────┤\n",
              "│ re_lu (\u001b[38;5;33mReLU\u001b[0m)                    │ (\u001b[38;5;45mNone\u001b[0m, \u001b[38;5;34m28\u001b[0m, \u001b[38;5;34m28\u001b[0m, \u001b[38;5;34m32\u001b[0m)     │             \u001b[38;5;34m0\u001b[0m │\n",
              "├─────────────────────────────────┼────────────────────────┼───────────────┤\n",
              "│ max_pooling2d (\u001b[38;5;33mMaxPooling2D\u001b[0m)    │ (\u001b[38;5;45mNone\u001b[0m, \u001b[38;5;34m14\u001b[0m, \u001b[38;5;34m14\u001b[0m, \u001b[38;5;34m32\u001b[0m)     │             \u001b[38;5;34m0\u001b[0m │\n",
              "├─────────────────────────────────┼────────────────────────┼───────────────┤\n",
              "│ conv2d_1 (\u001b[38;5;33mConv2D\u001b[0m)               │ (\u001b[38;5;45mNone\u001b[0m, \u001b[38;5;34m14\u001b[0m, \u001b[38;5;34m14\u001b[0m, \u001b[38;5;34m48\u001b[0m)     │        \u001b[38;5;34m13,872\u001b[0m │\n",
              "├─────────────────────────────────┼────────────────────────┼───────────────┤\n",
              "│ batch_normalization_1           │ (\u001b[38;5;45mNone\u001b[0m, \u001b[38;5;34m14\u001b[0m, \u001b[38;5;34m14\u001b[0m, \u001b[38;5;34m48\u001b[0m)     │           \u001b[38;5;34m192\u001b[0m │\n",
              "│ (\u001b[38;5;33mBatchNormalization\u001b[0m)            │                        │               │\n",
              "├─────────────────────────────────┼────────────────────────┼───────────────┤\n",
              "│ re_lu_1 (\u001b[38;5;33mReLU\u001b[0m)                  │ (\u001b[38;5;45mNone\u001b[0m, \u001b[38;5;34m14\u001b[0m, \u001b[38;5;34m14\u001b[0m, \u001b[38;5;34m48\u001b[0m)     │             \u001b[38;5;34m0\u001b[0m │\n",
              "├─────────────────────────────────┼────────────────────────┼───────────────┤\n",
              "│ max_pooling2d_1 (\u001b[38;5;33mMaxPooling2D\u001b[0m)  │ (\u001b[38;5;45mNone\u001b[0m, \u001b[38;5;34m7\u001b[0m, \u001b[38;5;34m7\u001b[0m, \u001b[38;5;34m48\u001b[0m)       │             \u001b[38;5;34m0\u001b[0m │\n",
              "├─────────────────────────────────┼────────────────────────┼───────────────┤\n",
              "│ conv2d_2 (\u001b[38;5;33mConv2D\u001b[0m)               │ (\u001b[38;5;45mNone\u001b[0m, \u001b[38;5;34m7\u001b[0m, \u001b[38;5;34m7\u001b[0m, \u001b[38;5;34m64\u001b[0m)       │        \u001b[38;5;34m27,712\u001b[0m │\n",
              "├─────────────────────────────────┼────────────────────────┼───────────────┤\n",
              "│ batch_normalization_2           │ (\u001b[38;5;45mNone\u001b[0m, \u001b[38;5;34m7\u001b[0m, \u001b[38;5;34m7\u001b[0m, \u001b[38;5;34m64\u001b[0m)       │           \u001b[38;5;34m256\u001b[0m │\n",
              "│ (\u001b[38;5;33mBatchNormalization\u001b[0m)            │                        │               │\n",
              "├─────────────────────────────────┼────────────────────────┼───────────────┤\n",
              "│ re_lu_2 (\u001b[38;5;33mReLU\u001b[0m)                  │ (\u001b[38;5;45mNone\u001b[0m, \u001b[38;5;34m7\u001b[0m, \u001b[38;5;34m7\u001b[0m, \u001b[38;5;34m64\u001b[0m)       │             \u001b[38;5;34m0\u001b[0m │\n",
              "├─────────────────────────────────┼────────────────────────┼───────────────┤\n",
              "│ conv2d_3 (\u001b[38;5;33mConv2D\u001b[0m)               │ (\u001b[38;5;45mNone\u001b[0m, \u001b[38;5;34m7\u001b[0m, \u001b[38;5;34m7\u001b[0m, \u001b[38;5;34m128\u001b[0m)      │        \u001b[38;5;34m73,856\u001b[0m │\n",
              "├─────────────────────────────────┼────────────────────────┼───────────────┤\n",
              "│ batch_normalization_3           │ (\u001b[38;5;45mNone\u001b[0m, \u001b[38;5;34m7\u001b[0m, \u001b[38;5;34m7\u001b[0m, \u001b[38;5;34m128\u001b[0m)      │           \u001b[38;5;34m512\u001b[0m │\n",
              "│ (\u001b[38;5;33mBatchNormalization\u001b[0m)            │                        │               │\n",
              "├─────────────────────────────────┼────────────────────────┼───────────────┤\n",
              "│ re_lu_3 (\u001b[38;5;33mReLU\u001b[0m)                  │ (\u001b[38;5;45mNone\u001b[0m, \u001b[38;5;34m7\u001b[0m, \u001b[38;5;34m7\u001b[0m, \u001b[38;5;34m128\u001b[0m)      │             \u001b[38;5;34m0\u001b[0m │\n",
              "├─────────────────────────────────┼────────────────────────┼───────────────┤\n",
              "│ max_pooling2d_2 (\u001b[38;5;33mMaxPooling2D\u001b[0m)  │ (\u001b[38;5;45mNone\u001b[0m, \u001b[38;5;34m3\u001b[0m, \u001b[38;5;34m3\u001b[0m, \u001b[38;5;34m128\u001b[0m)      │             \u001b[38;5;34m0\u001b[0m │\n",
              "├─────────────────────────────────┼────────────────────────┼───────────────┤\n",
              "│ flatten (\u001b[38;5;33mFlatten\u001b[0m)               │ (\u001b[38;5;45mNone\u001b[0m, \u001b[38;5;34m1152\u001b[0m)           │             \u001b[38;5;34m0\u001b[0m │\n",
              "├─────────────────────────────────┼────────────────────────┼───────────────┤\n",
              "│ dense (\u001b[38;5;33mDense\u001b[0m)                   │ (\u001b[38;5;45mNone\u001b[0m, \u001b[38;5;34m128\u001b[0m)            │       \u001b[38;5;34m147,584\u001b[0m │\n",
              "├─────────────────────────────────┼────────────────────────┼───────────────┤\n",
              "│ batch_normalization_4           │ (\u001b[38;5;45mNone\u001b[0m, \u001b[38;5;34m128\u001b[0m)            │           \u001b[38;5;34m512\u001b[0m │\n",
              "│ (\u001b[38;5;33mBatchNormalization\u001b[0m)            │                        │               │\n",
              "├─────────────────────────────────┼────────────────────────┼───────────────┤\n",
              "│ re_lu_4 (\u001b[38;5;33mReLU\u001b[0m)                  │ (\u001b[38;5;45mNone\u001b[0m, \u001b[38;5;34m128\u001b[0m)            │             \u001b[38;5;34m0\u001b[0m │\n",
              "├─────────────────────────────────┼────────────────────────┼───────────────┤\n",
              "│ dropout (\u001b[38;5;33mDropout\u001b[0m)               │ (\u001b[38;5;45mNone\u001b[0m, \u001b[38;5;34m128\u001b[0m)            │             \u001b[38;5;34m0\u001b[0m │\n",
              "├─────────────────────────────────┼────────────────────────┼───────────────┤\n",
              "│ dense_1 (\u001b[38;5;33mDense\u001b[0m)                 │ (\u001b[38;5;45mNone\u001b[0m, \u001b[38;5;34m128\u001b[0m)            │        \u001b[38;5;34m16,512\u001b[0m │\n",
              "├─────────────────────────────────┼────────────────────────┼───────────────┤\n",
              "│ batch_normalization_5           │ (\u001b[38;5;45mNone\u001b[0m, \u001b[38;5;34m128\u001b[0m)            │           \u001b[38;5;34m512\u001b[0m │\n",
              "│ (\u001b[38;5;33mBatchNormalization\u001b[0m)            │                        │               │\n",
              "├─────────────────────────────────┼────────────────────────┼───────────────┤\n",
              "│ re_lu_5 (\u001b[38;5;33mReLU\u001b[0m)                  │ (\u001b[38;5;45mNone\u001b[0m, \u001b[38;5;34m128\u001b[0m)            │             \u001b[38;5;34m0\u001b[0m │\n",
              "├─────────────────────────────────┼────────────────────────┼───────────────┤\n",
              "│ dropout_1 (\u001b[38;5;33mDropout\u001b[0m)             │ (\u001b[38;5;45mNone\u001b[0m, \u001b[38;5;34m128\u001b[0m)            │             \u001b[38;5;34m0\u001b[0m │\n",
              "├─────────────────────────────────┼────────────────────────┼───────────────┤\n",
              "│ dense_2 (\u001b[38;5;33mDense\u001b[0m)                 │ (\u001b[38;5;45mNone\u001b[0m, \u001b[38;5;34m47\u001b[0m)             │         \u001b[38;5;34m6,063\u001b[0m │\n",
              "└─────────────────────────────────┴────────────────────────┴───────────────┘\n"
            ]
          },
          "metadata": {},
          "output_type": "display_data"
        },
        {
          "data": {
            "text/html": [
              "<pre style=\"white-space:pre;overflow-x:auto;line-height:normal;font-family:Menlo,'DejaVu Sans Mono',consolas,'Courier New',monospace\"><span style=\"font-weight: bold\"> Total params: </span><span style=\"color: #00af00; text-decoration-color: #00af00\">288,031</span> (1.10 MB)\n",
              "</pre>\n"
            ],
            "text/plain": [
              "\u001b[1m Total params: \u001b[0m\u001b[38;5;34m288,031\u001b[0m (1.10 MB)\n"
            ]
          },
          "metadata": {},
          "output_type": "display_data"
        },
        {
          "data": {
            "text/html": [
              "<pre style=\"white-space:pre;overflow-x:auto;line-height:normal;font-family:Menlo,'DejaVu Sans Mono',consolas,'Courier New',monospace\"><span style=\"font-weight: bold\"> Trainable params: </span><span style=\"color: #00af00; text-decoration-color: #00af00\">286,975</span> (1.09 MB)\n",
              "</pre>\n"
            ],
            "text/plain": [
              "\u001b[1m Trainable params: \u001b[0m\u001b[38;5;34m286,975\u001b[0m (1.09 MB)\n"
            ]
          },
          "metadata": {},
          "output_type": "display_data"
        },
        {
          "data": {
            "text/html": [
              "<pre style=\"white-space:pre;overflow-x:auto;line-height:normal;font-family:Menlo,'DejaVu Sans Mono',consolas,'Courier New',monospace\"><span style=\"font-weight: bold\"> Non-trainable params: </span><span style=\"color: #00af00; text-decoration-color: #00af00\">1,056</span> (4.12 KB)\n",
              "</pre>\n"
            ],
            "text/plain": [
              "\u001b[1m Non-trainable params: \u001b[0m\u001b[38;5;34m1,056\u001b[0m (4.12 KB)\n"
            ]
          },
          "metadata": {},
          "output_type": "display_data"
        }
      ],
      "source": [
        "# Define the model\n",
        "#from keras.layers import Conv2D, MaxPooling2D, Flatten, Dropout, Dense, BatchNormalization, LeakyReLU\n",
        "from tensorflow.keras.optimizers import Adam\n",
        "from tensorflow.keras.layers import ReLU\n",
        "from tensorflow.keras import layers\n",
        "\n",
        "keras.backend.clear_session()\n",
        "\n",
        "data_augmentation = keras.Sequential([\n",
        "    layers.RandomRotation(0.1),        # Randomly rotate images by up to 10 degrees\n",
        "    layers.RandomTranslation(0.1, 0.1),# Randomly shift images horizontally and vertically by up to 10%\n",
        "    layers.RandomZoom(0.1),            # Randomly zoom into images by up to 10%\n",
        "    layers.RandomFlip(\"horizontal\"),   # Optionally, flip images horizontally\n",
        "])\n",
        "\n",
        "model = keras.Sequential([\n",
        "    keras.Input(shape=(28, 28, 1)),  # Input shape for EMNIST data\n",
        "    \n",
        "    #data_augmentation,\n",
        "\n",
        "    # First Conv Block\n",
        "    keras.layers.Conv2D(32, kernel_size=(3, 3), padding='same'),\n",
        "    keras.layers.BatchNormalization(),\n",
        "    keras.layers.ReLU(),\n",
        "    keras.layers.MaxPooling2D(pool_size=(2, 2), strides=(2, 2)),\n",
        "\n",
        "    # Second Conv Block\n",
        "    keras.layers.Conv2D(48, kernel_size=(3, 3), padding='same'),\n",
        "    keras.layers.BatchNormalization(),\n",
        "    keras.layers.ReLU(),\n",
        "    keras.layers.MaxPooling2D(pool_size=(2, 2), strides=(2, 2)),\n",
        "\n",
        "    # Third Conv Block\n",
        "    keras.layers.Conv2D(64, kernel_size=(3, 3), padding='same'),\n",
        "    keras.layers.BatchNormalization(),\n",
        "    keras.layers.ReLU(),\n",
        "\n",
        "    # Fourth Conv Block\n",
        "    keras.layers.Conv2D(128, kernel_size=(3, 3), padding='same'),\n",
        "    keras.layers.BatchNormalization(),\n",
        "    keras.layers.ReLU(),\n",
        "    keras.layers.MaxPooling2D(pool_size=(2, 2), strides=(2, 2)),\n",
        "\n",
        "    # Flatten Layer\n",
        "    keras.layers.Flatten(),\n",
        "\n",
        "    # Fully Connected Layers\n",
        "    keras.layers.Dense(128),  # No activation here, add as a separate layer\n",
        "    keras.layers.BatchNormalization(),\n",
        "    keras.layers.ReLU(),\n",
        "    keras.layers.Dropout(0.3),\n",
        "    keras.layers.Dense(128),\n",
        "    keras.layers.BatchNormalization(),\n",
        "    keras.layers.ReLU(),\n",
        "    keras.layers.Dropout(0.2),\n",
        "    keras.layers.Dense(len(classes), activation=\"softmax\"),  # Output layer for classification\n",
        "])\n",
        "\n",
        "model.summary()"
      ]
    },
    {
      "cell_type": "code",
      "execution_count": 22,
      "metadata": {
        "colab": {
          "base_uri": "https://localhost:8080/",
          "height": 373
        },
        "id": "C4YWCWBDQcw3",
        "outputId": "49642402-f6f1-4c9a-8078-d168cde982ab"
      },
      "outputs": [
        {
          "name": "stdout",
          "output_type": "stream",
          "text": [
            "Epoch 1/40\n"
          ]
        },
        {
          "name": "stderr",
          "output_type": "stream",
          "text": [
            "/home/calvin/.local/lib/python3.10/site-packages/keras/src/trainers/data_adapters/py_dataset_adapter.py:121: UserWarning: Your `PyDataset` class should call `super().__init__(**kwargs)` in its constructor. `**kwargs` can include `workers`, `use_multiprocessing`, `max_queue_size`. Do not pass these arguments to `fit()`, as they will be ignored.\n",
            "  self._warn_if_super_not_called()\n"
          ]
        },
        {
          "name": "stdout",
          "output_type": "stream",
          "text": [
            "\u001b[1m704/704\u001b[0m \u001b[32m━━━━━━━━━━━━━━━━━━━━\u001b[0m\u001b[37m\u001b[0m \u001b[1m34s\u001b[0m 45ms/step - accuracy: 0.3875 - loss: 2.4438 - val_accuracy: 0.8135 - val_loss: 0.5983\n",
            "Epoch 2/40\n",
            "\u001b[1m704/704\u001b[0m \u001b[32m━━━━━━━━━━━━━━━━━━━━\u001b[0m\u001b[37m\u001b[0m \u001b[1m32s\u001b[0m 45ms/step - accuracy: 0.7428 - loss: 0.7698 - val_accuracy: 0.8220 - val_loss: 0.5020\n",
            "Epoch 3/40\n",
            "\u001b[1m704/704\u001b[0m \u001b[32m━━━━━━━━━━━━━━━━━━━━\u001b[0m\u001b[37m\u001b[0m \u001b[1m32s\u001b[0m 45ms/step - accuracy: 0.7817 - loss: 0.5872 - val_accuracy: 0.8506 - val_loss: 0.4410\n",
            "Epoch 4/40\n",
            "\u001b[1m704/704\u001b[0m \u001b[32m━━━━━━━━━━━━━━━━━━━━\u001b[0m\u001b[37m\u001b[0m \u001b[1m32s\u001b[0m 45ms/step - accuracy: 0.8037 - loss: 0.5203 - val_accuracy: 0.8607 - val_loss: 0.3877\n",
            "Epoch 5/40\n",
            "\u001b[1m704/704\u001b[0m \u001b[32m━━━━━━━━━━━━━━━━━━━━\u001b[0m\u001b[37m\u001b[0m \u001b[1m32s\u001b[0m 45ms/step - accuracy: 0.8144 - loss: 0.4873 - val_accuracy: 0.8367 - val_loss: 0.4446\n",
            "Epoch 6/40\n",
            "\u001b[1m704/704\u001b[0m \u001b[32m━━━━━━━━━━━━━━━━━━━━\u001b[0m\u001b[37m\u001b[0m \u001b[1m32s\u001b[0m 45ms/step - accuracy: 0.8212 - loss: 0.4479 - val_accuracy: 0.8314 - val_loss: 0.4750\n",
            "Epoch 7/40\n",
            "\u001b[1m704/704\u001b[0m \u001b[32m━━━━━━━━━━━━━━━━━━━━\u001b[0m\u001b[37m\u001b[0m \u001b[1m32s\u001b[0m 45ms/step - accuracy: 0.8276 - loss: 0.4366 - val_accuracy: 0.8505 - val_loss: 0.4230\n",
            "Epoch 8/40\n",
            "\u001b[1m704/704\u001b[0m \u001b[32m━━━━━━━━━━━━━━━━━━━━\u001b[0m\u001b[37m\u001b[0m \u001b[1m32s\u001b[0m 45ms/step - accuracy: 0.8301 - loss: 0.4189 - val_accuracy: 0.8404 - val_loss: 0.4228\n",
            "Epoch 9/40\n",
            "\u001b[1m704/704\u001b[0m \u001b[32m━━━━━━━━━━━━━━━━━━━━\u001b[0m\u001b[37m\u001b[0m \u001b[1m32s\u001b[0m 45ms/step - accuracy: 0.8378 - loss: 0.4011 - val_accuracy: 0.8263 - val_loss: 0.4884\n",
            "Epoch 9: early stopping\n",
            "Restoring model weights from the end of the best epoch: 4.\n"
          ]
        }
      ],
      "source": [
        "from tensorflow.keras.callbacks import EarlyStopping\n",
        "from tensorflow.keras.optimizers import Adam\n",
        "\n",
        "# Define EarlyStopping callback used GEN AI\n",
        "early_stopping = EarlyStopping(\n",
        "    monitor='val_loss',        # Metric to monitor\n",
        "    patience=5,                # Number of epochs with no improvement after which training will be stopped\n",
        "    restore_best_weights=True, # Restore model weights from the epoch with the best value of the monitored metric\n",
        "    verbose=1                  # Verbosity mode\n",
        ")\n",
        "\n",
        "# Compile model with adjusted learning rate for Adam optimizer\n",
        "learning_rate = 0.0005  # Decreasing the learning rate for better convergence\n",
        "optimizer = Adam(learning_rate=learning_rate)\n",
        "\n",
        "model.compile(loss='sparse_categorical_crossentropy',\n",
        "              optimizer=optimizer,\n",
        "              metrics=['accuracy'])\n",
        "\n",
        "# Set batch size and number of epochs\n",
        "batch_size = 128\n",
        "epochs = 40\n",
        "\n",
        "# Fit the model\n",
        "history = model.fit(train_datagen.flow(X_train, y_train, batch_size=batch_size),\n",
        "                    epochs=epochs, validation_data=valid_datagen.flow(X_valid, y_valid, batch_size=batch_size),\n",
        "                    class_weight=class_weights_dict, callbacks = [early_stopping])\n",
        "\n",
        "\n"
      ]
    },
    {
      "cell_type": "code",
      "execution_count": 23,
      "metadata": {
        "colab": {
          "base_uri": "https://localhost:8080/",
          "height": 487
        },
        "id": "vSTkgYSuSTNk",
        "outputId": "9ec6c97b-259a-4f22-cc05-dc1ef14eb88a"
      },
      "outputs": [
        {
          "data": {
            "image/png": "[encoded data removed]",
            "text/plain": [
              "<Figure size 640x480 with 2 Axes>"
            ]
          },
          "metadata": {},
          "output_type": "display_data"
        }
      ],
      "source": [
        "plt.subplot(1, 2, 1)\n",
        "plt.plot(history.history['accuracy'], label='Training Accuracy')\n",
        "plt.plot(history.history['val_accuracy'], label='Validation Accuracy')\n",
        "plt.title('Accuracy')\n",
        "plt.xlabel('Epochs')\n",
        "plt.ylabel('Accuracy')\n",
        "plt.legend()\n",
        "\n",
        "# Loss plot\n",
        "plt.subplot(1, 2, 2)\n",
        "plt.plot(history.history['loss'], label='Training Loss')\n",
        "plt.plot(history.history['val_loss'], label='Validation Loss')\n",
        "plt.title('Loss')\n",
        "plt.xlabel('Epochs')\n",
        "plt.ylabel('Loss')\n",
        "plt.legend()\n",
        "\n",
        "plt.tight_layout()\n",
        "plt.show()"
      ]
    },
    {
      "cell_type": "code",
      "execution_count": 24,
      "metadata": {
        "colab": {
          "base_uri": "https://localhost:8080/",
          "height": 1000
        },
        "id": "SssqgusFU9cT",
        "outputId": "3f4ddc5a-5688-4ddf-e763-43907ff6af9f"
      },
      "outputs": [
        {
          "name": "stdout",
          "output_type": "stream",
          "text": [
            "\u001b[1m313/313\u001b[0m \u001b[32m━━━━━━━━━━━━━━━━━━━━\u001b[0m\u001b[37m\u001b[0m \u001b[1m1s\u001b[0m 3ms/step - accuracy: 0.8601 - loss: 0.3881\n",
            "Test Loss: 0.3888085186481476\n",
            "Test Accuracy: 0.8609499931335449\n",
            "\u001b[1m625/625\u001b[0m \u001b[32m━━━━━━━━━━━━━━━━━━━━\u001b[0m\u001b[37m\u001b[0m \u001b[1m1s\u001b[0m 2ms/step\n",
            "\n",
            "Classification Report:\n",
            "              precision    recall  f1-score   support\n",
            "\n",
            "           0       0.67      0.70      0.69       976\n",
            "           1       0.65      0.85      0.74      1023\n",
            "           2       0.97      0.86      0.91      1003\n",
            "           3       1.00      0.98      0.99      1035\n",
            "           4       0.97      0.94      0.96       903\n",
            "           5       0.91      0.91      0.91       928\n",
            "           6       0.99      0.90      0.94       959\n",
            "           7       0.99      0.97      0.98      1098\n",
            "           8       0.98      0.91      0.95       941\n",
            "           9       0.95      0.88      0.91       929\n",
            "           A       0.89      0.98      0.93       170\n",
            "           B       0.56      0.99      0.72       118\n",
            "           C       0.99      0.90      0.94       406\n",
            "           D       0.53      0.97      0.69       128\n",
            "           E       0.92      0.96      0.94       162\n",
            "           F       0.91      0.49      0.64       261\n",
            "           G       0.73      0.92      0.81        60\n",
            "           H       0.74      1.00      0.85        74\n",
            "           I       0.52      0.60      0.56       426\n",
            "           J       0.85      0.88      0.87       155\n",
            "           K       0.92      0.99      0.96       154\n",
            "           L       0.83      0.26      0.40       562\n",
            "           M       0.95      0.98      0.97       348\n",
            "           N       0.95      0.98      0.96       249\n",
            "           O       0.67      0.55      0.61       820\n",
            "           P       0.95      0.97      0.96       342\n",
            "           Q       0.74      0.96      0.83        67\n",
            "           R       0.89      0.95      0.92       160\n",
            "           S       0.89      0.86      0.88       703\n",
            "           T       0.87      0.93      0.90       249\n",
            "           U       0.93      0.94      0.93       431\n",
            "           V       0.88      0.93      0.91       214\n",
            "           W       0.93      1.00      0.96       218\n",
            "           X       0.94      0.94      0.94       192\n",
            "           Y       0.84      0.83      0.83       201\n",
            "           Z       0.55      0.92      0.69       145\n",
            "           a       0.90      0.85      0.87       278\n",
            "           b       0.66      0.93      0.77       170\n",
            "           d       0.91      0.98      0.95       297\n",
            "           e       0.95      0.97      0.96       709\n",
            "           f       0.25      0.70      0.36        57\n",
            "           g       0.40      0.59      0.47        97\n",
            "           h       0.97      0.93      0.95       269\n",
            "           n       0.94      0.92      0.93       332\n",
            "           q       0.28      0.37      0.32        68\n",
            "           r       0.97      0.92      0.95       411\n",
            "           t       0.95      0.92      0.93       502\n",
            "\n",
            "    accuracy                           0.86     20000\n",
            "   macro avg       0.82      0.87      0.83     20000\n",
            "weighted avg       0.88      0.86      0.86     20000\n",
            "\n"
          ]
        },
        {
          "data": {
            "image/png": "[encoded data removed]",
            "text/plain": [
              "<Figure size 1500x500 with 10 Axes>"
            ]
          },
          "metadata": {},
          "output_type": "display_data"
        }
      ],
      "source": [
        "from sklearn.metrics import classification_report, confusion_matrix\n",
        "import matplotlib.pyplot as plt\n",
        "import seaborn as sns\n",
        "import numpy as np\n",
        "\n",
        "# Step 1: Evaluate the model on the test set\n",
        "test_loss, test_accuracy = model.evaluate(test_images, test_labels, batch_size=64)\n",
        "print(f\"Test Loss: {test_loss}\")\n",
        "print(f\"Test Accuracy: {test_accuracy}\")\n",
        "\n",
        "# Step 2: Make predictions on the test set\n",
        "predictions = model.predict(test_images)\n",
        "predicted_labels = np.argmax(predictions, axis=1)\n",
        "\n",
        "# Step 3: Generate a classification report using the mapped labels\n",
        "mapped_test_labels = [label_mapping[label] for label in test_labels]\n",
        "mapped_predicted_labels = [label_mapping[label] for label in predicted_labels]\n",
        "\n",
        "print(\"\\nClassification Report:\")\n",
        "print(classification_report(mapped_test_labels, mapped_predicted_labels, target_names=label_mapping))\n",
        "\n",
        "# Step 5: Visualize some test results with mapped labels\n",
        "num_images_to_display = 10\n",
        "fig, axes = plt.subplots(1, num_images_to_display, figsize=(15, 5))\n",
        "\n",
        "for i in range(num_images_to_display):\n",
        "    random_index = np.random.randint(0, len(test_images))\n",
        "    image = test_images[random_index].reshape(28, 28)\n",
        "    true_label = test_labels[random_index]\n",
        "    predicted_label = predicted_labels[random_index]\n",
        "\n",
        "    # Use the mapped labels for display\n",
        "    axes[i].imshow(image, cmap='gray')\n",
        "    axes[i].axis('off')\n",
        "    axes[i].set_title(f\"True: {label_mapping[true_label]}\\nPred: {label_mapping[predicted_label]}\")\n",
        "\n",
        "plt.tight_layout()\n",
        "plt.show()"
      ]
    },
    {
      "cell_type": "markdown",
      "metadata": {
        "id": "VY_2aZvZ_WwI"
      },
      "source": [
        "## Setting up Hyperparameter Tuning\n",
        "\n",
        "## Hyperparameters for CNN Model Tuning\n",
        "\n",
        "CNN models have a wide range of hyperparameters that we can attempt to tune to optimize performance. Below is a breif description of the hyperparameters we have elected to tune, note that this is not the full exhaustive list due to the issue of computation time.\n",
        "\n",
        "### 1. **Convolutional Layer Parameters**\n",
        "- **Number of Convolution Layers:** the number of convolution layers in the network, more allows for richer feature extraction\n",
        "- **Filters/Feature Maps:** List defining the number of filter in each layer, filter size increases however the options range from a large increase as well a a static number to capture more complex feautres\n",
        "- **Kernel Size:** The size of the filter, which is a small square matrix\n",
        "- **Strides:** This hyperparameter alters the strides for the convolution layer or the pooling layer, i.e the steps taken by the filter layers or pooling layers\n",
        "- **Pooling Frequency**: Alters how often we add a pooling layer i.e after each convolution layer or not\n",
        "- **Pool Size:** Size of the pooling window to alter the reduction in dimension of inputs\n",
        "\n",
        "### 2. **Dense Layer Parameters**\n",
        "- **Dense Layers**: This parameter alters the number of dense layers after our convolutional pooling blocks\n",
        "- **Dense Neurons**: This controls the number of neurons in each of the aforementioned dense layers\n",
        "\n",
        "### 3. **Dropout Parameters**\n",
        "- **Dropout Rates**: Dropout rates attempt to mitigate overfitting, this set of parameters selects a set of 3 rates randomly and applys them to the dense layers for regularisation.\n",
        "\n",
        "### 4. **Activation Functions**\n",
        "   - **activation**: The activation function applied after each layer, relu or leaky relu will be tested.\n",
        "\n",
        "### 5. **Input & Output**\n",
        "   - **Input shape and Number of Classes:** This is static but added as a hyperparameter for consistency\n",
        "\n",
        "### 6. **Optimizer and Learning Rate**\n",
        "   - **Optimizesr**: Alters the optimisation algorithm used for backpropagation, Adam and rmsprop are tested.\n",
        "   - **learning_rate**: Controls how quickly the model learns, different rates are tested to attempt to escape local minima.\n",
        "\n",
        "\n",
        "### 7. **Loss Function**\n",
        "   - **Loss funciton:** loss functin used it categorical cross entropy and will stay static due to nature of inputs.\n",
        "\n",
        "Tuning these hyperparameters will allow us to find the best structure for achieving a high accuracy."
      ]
    },
    {
      "cell_type": "markdown",
      "metadata": {
        "id": "TwHJi5JFC87B"
      },
      "source": []
    },
    {
      "cell_type": "code",
      "execution_count": 25,
      "metadata": {
        "colab": {
          "base_uri": "https://localhost:8080/"
        },
        "id": "y1oPBTnwZPUS",
        "outputId": "8c45169e-3fed-4ae8-a0df-d3296df9d201"
      },
      "outputs": [
        {
          "name": "stdout",
          "output_type": "stream",
          "text": [
            "Defaulting to user installation because normal site-packages is not writeable\n",
            "Collecting keras-tuner\n",
            "  Downloading keras_tuner-1.4.7-py3-none-any.whl (129 kB)\n",
            "\u001b[2K     \u001b[90m━━━━━━━━━━━━━━━━━━━━━━━━━━━━━━━━━━━━━━━\u001b[0m \u001b[32m129.1/129.1 KB\u001b[0m \u001b[31m3.8 MB/s\u001b[0m eta \u001b[36m0:00:00\u001b[0m\n",
            "\u001b[?25hRequirement already satisfied: packaging in /usr/lib/python3/dist-packages (from keras-tuner) (21.3)\n",
            "Collecting kt-legacy\n",
            "  Downloading kt_legacy-1.0.5-py3-none-any.whl (9.6 kB)\n",
            "Requirement already satisfied: requests in /usr/lib/python3/dist-packages (from keras-tuner) (2.25.1)\n",
            "Requirement already satisfied: keras in /home/calvin/.local/lib/python3.10/site-packages (from keras-tuner) (3.4.1)\n",
            "Requirement already satisfied: rich in /home/calvin/.local/lib/python3.10/site-packages (from keras->keras-tuner) (13.9.2)\n",
            "Requirement already satisfied: h5py in /home/calvin/.local/lib/python3.10/site-packages (from keras->keras-tuner) (3.12.1)\n",
            "Requirement already satisfied: absl-py in /home/calvin/.local/lib/python3.10/site-packages (from keras->keras-tuner) (2.1.0)\n",
            "Requirement already satisfied: namex in /home/calvin/.local/lib/python3.10/site-packages (from keras->keras-tuner) (0.0.8)\n",
            "Requirement already satisfied: numpy in /home/calvin/.local/lib/python3.10/site-packages (from keras->keras-tuner) (1.26.4)\n",
            "Requirement already satisfied: ml-dtypes in /home/calvin/.local/lib/python3.10/site-packages (from keras->keras-tuner) (0.4.1)\n",
            "Requirement already satisfied: optree in /home/calvin/.local/lib/python3.10/site-packages (from keras->keras-tuner) (0.13.0)\n",
            "Requirement already satisfied: typing-extensions>=4.5.0 in /home/calvin/.local/lib/python3.10/site-packages (from optree->keras->keras-tuner) (4.10.0)\n",
            "Requirement already satisfied: markdown-it-py>=2.2.0 in /home/calvin/.local/lib/python3.10/site-packages (from rich->keras->keras-tuner) (3.0.0)\n",
            "Requirement already satisfied: pygments<3.0.0,>=2.13.0 in /home/calvin/.local/lib/python3.10/site-packages (from rich->keras->keras-tuner) (2.18.0)\n",
            "Requirement already satisfied: mdurl~=0.1 in /home/calvin/.local/lib/python3.10/site-packages (from markdown-it-py>=2.2.0->rich->keras->keras-tuner) (0.1.2)\n",
            "Installing collected packages: kt-legacy, keras-tuner\n",
            "Successfully installed keras-tuner-1.4.7 kt-legacy-1.0.5\n"
          ]
        }
      ],
      "source": [
        "!pip install --upgrade keras-tuner"
      ]
    },
    {
      "cell_type": "code",
      "execution_count": 26,
      "metadata": {
        "id": "YaanHZE_5eo2"
      },
      "outputs": [],
      "source": [
        "# https://github.com/keras-team/keras-tuner/issues/128\n",
        "import keras_tuner as kt\n",
        "from tensorflow import keras\n",
        "from tensorflow.keras import layers\n",
        "from tensorflow.keras.preprocessing.image import ImageDataGenerator\n",
        "\n",
        "# Define your custom hypermodel class\n",
        "class MyHyperModel(kt.HyperModel):\n",
        "    def __init__(self):\n",
        "        super().__init__()\n",
        "        self.hp_log = []\n",
        "\n",
        "    def build(self, hp):\n",
        "        self.hp_log = []  # Reset the log for each build\n",
        "        input_shape = (28, 28, 1)\n",
        "        num_classes = 47\n",
        "\n",
        "        model = keras.Sequential()\n",
        "        model.add(keras.Input(shape=input_shape))\n",
        "\n",
        "        # Data augmentation layer\n",
        "        data_augmentation = keras.Sequential([\n",
        "            layers.RandomRotation(0.1),        # Randomly rotate images by up to 10 degrees\n",
        "            layers.RandomTranslation(0.1, 0.1),# Randomly shift images horizontally and vertically by up to 10%\n",
        "            layers.RandomZoom(0.1),            # Randomly zoom into images by up to 10%\n",
        "            layers.RandomFlip(\"horizontal\"),   # Optionally, flip images horizontally\n",
        "        ])\n",
        "\n",
        "        #model.add(data_augmentation)  # Add data augmentation to the model\n",
        "\n",
        "        filter_grids = [\n",
        "            [32, 48, 64, 128],\n",
        "            [32, 64, 128, 256],\n",
        "            [64, 64, 64, 64],\n",
        "            [128, 64, 32, 32],\n",
        "        ]\n",
        "\n",
        "        selected_grid_idx = self._log_hp(hp.Choice, 'filter_grid', [0, 1, 2, 3])\n",
        "        filters = filter_grids[selected_grid_idx]\n",
        "\n",
        "        conv_layers = self._log_hp(hp.Int, 'conv_layers', min_value=2, max_value=5, step=1)\n",
        "        kernel_size_options = [(3, 3), (5, 5)]\n",
        "        selected_kernel_size_idx = self._log_hp(hp.Choice, 'kernel_size', [0, 1])\n",
        "        kernel_size = kernel_size_options[selected_kernel_size_idx]\n",
        "\n",
        "        conv_strides_options = [(1, 1), (2, 2)]\n",
        "        selected_conv_strides_idx = self._log_hp(hp.Choice, 'conv_strides', [0, 1])\n",
        "        conv_strides = conv_strides_options[selected_conv_strides_idx]\n",
        "\n",
        "        pool_size_options = [(2, 2), (3, 3)]\n",
        "        selected_pool_size_idx = self._log_hp(hp.Choice, 'pool_size', [0, 1])\n",
        "        pool_size = pool_size_options[selected_pool_size_idx]\n",
        "\n",
        "        pool_strides_options = [None, (2, 2)]\n",
        "        selected_pool_strides_idx = self._log_hp(hp.Choice, 'pool_strides', [0, 1])\n",
        "        pool_strides = pool_strides_options[selected_pool_strides_idx]\n",
        "\n",
        "        dense_layers = self._log_hp(hp.Int, 'dense_layers', min_value=1, max_value=3, step=1)\n",
        "        dense_neurons = self._log_hp(hp.Choice, 'dense_neurons', [64, 128, 256])\n",
        "        dropout_rate_1 = self._log_hp(hp.Choice, 'dropout_rate_1', [0.0, 0.3, 0.5])\n",
        "        dropout_rate_2 = self._log_hp(hp.Choice, 'dropout_rate_2', [0.0, 0.2, 0.4])\n",
        "        dropout_rate_3 = self._log_hp(hp.Choice, 'dropout_rate_3', [0.0, 0.1, 0.3])\n",
        "\n",
        "        activation = self._log_hp(hp.Choice, 'activation', ['relu', 'leaky_relu'])\n",
        "        pooling_frequency = self._log_hp(hp.Choice, 'pooling_frequency', [1, 2])\n",
        "\n",
        "        optimizer_name = self._log_hp(hp.Choice, 'optimizer', ['adam', 'rmsprop'])\n",
        "        learning_rate = self._log_hp(hp.Choice, 'learning_rate', [0.001, 0.0001])\n",
        "\n",
        "        for i in range(conv_layers):\n",
        "            filter_num = filters[i] if i < len(filters) else filters[-1]\n",
        "            model.add(layers.Conv2D(filter_num, kernel_size=kernel_size,\n",
        "                                    strides=conv_strides, padding='same'))\n",
        "            model.add(layers.BatchNormalization())\n",
        "            model.add(layers.Activation(activation))\n",
        "\n",
        "            # Get the current input shape before applying pooling\n",
        "            current_shape = model.output_shape[1:3]  # Get height and width (ignores batch size and channels)\n",
        "            if (i + 1) % pooling_frequency == 0 and current_shape[0] >= pool_size[0] and current_shape[1] >= pool_size[1]:\n",
        "                model.add(layers.MaxPooling2D(pool_size=pool_size, strides=pool_strides))\n",
        "\n",
        "        model.add(layers.Flatten())\n",
        "\n",
        "        dropout_rates = [dropout_rate_1, dropout_rate_2, dropout_rate_3]\n",
        "        for i in range(dense_layers):\n",
        "            model.add(layers.Dense(dense_neurons))\n",
        "            model.add(layers.BatchNormalization())\n",
        "            model.add(layers.Activation(activation))\n",
        "            if i < len(dropout_rates) and dropout_rates[i] > 0:\n",
        "                model.add(layers.Dropout(dropout_rates[i]))\n",
        "\n",
        "        model.add(layers.Dense(num_classes, activation=\"softmax\"))\n",
        "\n",
        "        # Compile the model\n",
        "        if optimizer_name == 'adam':\n",
        "            optimizer = keras.optimizers.Adam(learning_rate=learning_rate)\n",
        "        elif optimizer_name == 'rmsprop':\n",
        "            optimizer = keras.optimizers.RMSprop(learning_rate=learning_rate)\n",
        "        else:\n",
        "            raise ValueError(f\"Unsupported optimizer: {optimizer_name}\")\n",
        "\n",
        "        model.compile(optimizer=optimizer, loss='sparse_categorical_crossentropy', metrics=['accuracy'])\n",
        "\n",
        "        return model\n",
        "\n",
        "    def _log_hp(self, hp_func, name, *args, **kwargs):\n",
        "        value = hp_func(name, *args, **kwargs)\n",
        "        self.hp_log.append({\n",
        "            'name': name,\n",
        "            'type': hp_func.__name__,\n",
        "            'args': args,\n",
        "            'kwargs': kwargs,\n",
        "            'value': value\n",
        "        })\n",
        "        return value\n",
        "\n",
        "    def fit(self, hp, model, *args, **kwargs):\n",
        "        # Log the batch_size hyperparameter\n",
        "        batch_size = self._log_hp(hp.Choice, \"batch_size\", [32, 64, 128])\n",
        "        return model.fit(\n",
        "            *args,\n",
        "            batch_size=batch_size,\n",
        "            **kwargs,\n",
        "        )\n",
        "\n",
        "    def get_hp_log(self):\n",
        "        return self.hp_log\n",
        "\n",
        "\n"
      ]
    },
    {
      "cell_type": "code",
      "execution_count": 27,
      "metadata": {
        "colab": {
          "base_uri": "https://localhost:8080/"
        },
        "id": "J3Mkz75gZEpw",
        "outputId": "cc7f99a8-ab13-4984-8735-b4da1b38d1cd"
      },
      "outputs": [
        {
          "name": "stdout",
          "output_type": "stream",
          "text": [
            "Search space summary:\n",
            "Search space summary\n",
            "Default search space size: 15\n",
            "filter_grid (Choice)\n",
            "{'default': 0, 'conditions': [], 'values': [0, 1, 2, 3], 'ordered': True}\n",
            "conv_layers (Int)\n",
            "{'default': None, 'conditions': [], 'min_value': 2, 'max_value': 5, 'step': 1, 'sampling': 'linear'}\n",
            "kernel_size (Choice)\n",
            "{'default': 0, 'conditions': [], 'values': [0, 1], 'ordered': True}\n",
            "conv_strides (Choice)\n",
            "{'default': 0, 'conditions': [], 'values': [0, 1], 'ordered': True}\n",
            "pool_size (Choice)\n",
            "{'default': 0, 'conditions': [], 'values': [0, 1], 'ordered': True}\n",
            "pool_strides (Choice)\n",
            "{'default': 0, 'conditions': [], 'values': [0, 1], 'ordered': True}\n",
            "dense_layers (Int)\n",
            "{'default': None, 'conditions': [], 'min_value': 1, 'max_value': 3, 'step': 1, 'sampling': 'linear'}\n",
            "dense_neurons (Choice)\n",
            "{'default': 64, 'conditions': [], 'values': [64, 128, 256], 'ordered': True}\n",
            "dropout_rate_1 (Choice)\n",
            "{'default': 0.0, 'conditions': [], 'values': [0.0, 0.3, 0.5], 'ordered': True}\n",
            "dropout_rate_2 (Choice)\n",
            "{'default': 0.0, 'conditions': [], 'values': [0.0, 0.2, 0.4], 'ordered': True}\n",
            "dropout_rate_3 (Choice)\n",
            "{'default': 0.0, 'conditions': [], 'values': [0.0, 0.1, 0.3], 'ordered': True}\n",
            "activation (Choice)\n",
            "{'default': 'relu', 'conditions': [], 'values': ['relu', 'leaky_relu'], 'ordered': False}\n",
            "pooling_frequency (Choice)\n",
            "{'default': 1, 'conditions': [], 'values': [1, 2], 'ordered': True}\n",
            "optimizer (Choice)\n",
            "{'default': 'adam', 'conditions': [], 'values': ['adam', 'rmsprop'], 'ordered': False}\n",
            "learning_rate (Choice)\n",
            "{'default': 0.001, 'conditions': [], 'values': [0.001, 0.0001], 'ordered': True}\n"
          ]
        }
      ],
      "source": [
        "import inspect\n",
        "early_stopping = EarlyStopping(\n",
        "    monitor='val_loss',        # Metric to monitor\n",
        "    patience=5,                # Number of epochs with no improvement after which training will be stopped\n",
        "    restore_best_weights=True, # Restore model weights from the epoch with the best value of the monitored metric\n",
        "    verbose=1                  # Verbosity mode\n",
        ")\n",
        "\n",
        "\n",
        "hypermodel = MyHyperModel()\n",
        "tuner = kt.RandomSearch(\n",
        "    hypermodel,\n",
        "    objective=\"val_accuracy\",\n",
        "    max_trials=10,\n",
        "    executions_per_trial=1,\n",
        "    overwrite=True,\n",
        "    directory=\"kt_search_logs\",\n",
        "    project_name=\"cnn_hypermodel_tuning\",\n",
        ")\n",
        "\n",
        "# Print the search space summary\n",
        "print(\"Search space summary:\")\n",
        "tuner.search_space_summary(extended=True)"
      ]
    },
    {
      "cell_type": "code",
      "execution_count": 28,
      "metadata": {
        "colab": {
          "base_uri": "https://localhost:8080/",
          "height": 1000
        },
        "id": "OJ9VOPv5fqPA",
        "outputId": "f3f51235-ba86-40a9-8960-0c3e70fe848d"
      },
      "outputs": [
        {
          "name": "stdout",
          "output_type": "stream",
          "text": [
            "Trial 10 Complete [00h 05m 51s]\n",
            "val_accuracy: 0.8626000285148621\n",
            "\n",
            "Best val_accuracy So Far: 0.8956000208854675\n",
            "Total elapsed time: 02h 21m 43s\n",
            "Best Hyperparameters: {'filter_grid': 2, 'conv_layers': 5, 'kernel_size': 0, 'conv_strides': 0, 'pool_size': 0, 'pool_strides': 0, 'dense_layers': 1, 'dense_neurons': 128, 'dropout_rate_1': 0.0, 'dropout_rate_2': 0.4, 'dropout_rate_3': 0.3, 'activation': 'leaky_relu', 'pooling_frequency': 2, 'optimizer': 'adam', 'learning_rate': 0.001, 'batch_size': 32}\n"
          ]
        },
        {
          "name": "stderr",
          "output_type": "stream",
          "text": [
            "/home/calvin/.local/lib/python3.10/site-packages/keras/src/saving/saving_lib.py:576: UserWarning: Skipping variable loading for optimizer 'adam', because it has 2 variables whereas the saved optimizer has 54 variables. \n",
            "  saveable.load_own_variables(weights_store.get(inner_path))\n"
          ]
        }
      ],
      "source": [
        "# Perform the hyperparameter search\n",
        "tuner.search(\n",
        "    train_datagen.flow(X_train, y_train),\n",
        "    epochs=20,\n",
        "    validation_data=valid_datagen.flow(X_valid, y_valid),\n",
        "    callbacks=[early_stopping]\n",
        ")\n",
        "\n",
        "\n",
        "# Get the best hyperparameters after the search\n",
        "best_hps = tuner.get_best_hyperparameters(num_trials=1)[0]\n",
        "print(f\"Best Hyperparameters: {best_hps.values}\")\n",
        "\n",
        "# Get the best model\n",
        "best_model = tuner.get_best_models(num_models=1)[0]\n"
      ]
    },
    {
      "cell_type": "code",
      "execution_count": 29,
      "metadata": {
        "colab": {
          "base_uri": "https://localhost:8080/"
        },
        "id": "5Jzu_LBCbFDa",
        "outputId": "eb077ebf-d3b0-43e0-c838-4cb5f29ae060"
      },
      "outputs": [
        {
          "name": "stdout",
          "output_type": "stream",
          "text": [
            "Trial ID: 00\n",
            "Hyperparameters: {'filter_grid': 1, 'conv_layers': 3, 'kernel_size': 0, 'conv_strides': 0, 'pool_size': 0, 'pool_strides': 1, 'dense_layers': 3, 'dense_neurons': 256, 'dropout_rate_1': 0.0, 'dropout_rate_2': 0.0, 'dropout_rate_3': 0.0, 'activation': 'leaky_relu', 'pooling_frequency': 1, 'optimizer': 'adam', 'learning_rate': 0.0001, 'batch_size': 32}\n",
            "Score: 0.890999972820282\n",
            "\n",
            "Trial ID: 01\n",
            "Hyperparameters: {'filter_grid': 3, 'conv_layers': 2, 'kernel_size': 0, 'conv_strides': 1, 'pool_size': 0, 'pool_strides': 0, 'dense_layers': 3, 'dense_neurons': 64, 'dropout_rate_1': 0.5, 'dropout_rate_2': 0.0, 'dropout_rate_3': 0.1, 'activation': 'relu', 'pooling_frequency': 1, 'optimizer': 'adam', 'learning_rate': 0.001, 'batch_size': 128}\n",
            "Score: 0.8578000068664551\n",
            "\n",
            "Trial ID: 02\n",
            "Hyperparameters: {'filter_grid': 2, 'conv_layers': 5, 'kernel_size': 0, 'conv_strides': 0, 'pool_size': 0, 'pool_strides': 0, 'dense_layers': 1, 'dense_neurons': 128, 'dropout_rate_1': 0.0, 'dropout_rate_2': 0.4, 'dropout_rate_3': 0.3, 'activation': 'leaky_relu', 'pooling_frequency': 2, 'optimizer': 'adam', 'learning_rate': 0.001, 'batch_size': 32}\n",
            "Score: 0.8956000208854675\n",
            "\n",
            "Trial ID: 03\n",
            "Hyperparameters: {'filter_grid': 3, 'conv_layers': 5, 'kernel_size': 0, 'conv_strides': 0, 'pool_size': 0, 'pool_strides': 1, 'dense_layers': 3, 'dense_neurons': 64, 'dropout_rate_1': 0.5, 'dropout_rate_2': 0.4, 'dropout_rate_3': 0.1, 'activation': 'relu', 'pooling_frequency': 2, 'optimizer': 'adam', 'learning_rate': 0.0001, 'batch_size': 128}\n",
            "Score: 0.8621000051498413\n",
            "\n",
            "Trial ID: 04\n",
            "Hyperparameters: {'filter_grid': 2, 'conv_layers': 2, 'kernel_size': 1, 'conv_strides': 1, 'pool_size': 1, 'pool_strides': 0, 'dense_layers': 2, 'dense_neurons': 128, 'dropout_rate_1': 0.3, 'dropout_rate_2': 0.4, 'dropout_rate_3': 0.1, 'activation': 'relu', 'pooling_frequency': 1, 'optimizer': 'adam', 'learning_rate': 0.0001, 'batch_size': 64}\n",
            "Score: 0.8738999962806702\n",
            "\n",
            "Trial ID: 05\n",
            "Hyperparameters: {'filter_grid': 2, 'conv_layers': 5, 'kernel_size': 0, 'conv_strides': 1, 'pool_size': 0, 'pool_strides': 1, 'dense_layers': 2, 'dense_neurons': 64, 'dropout_rate_1': 0.5, 'dropout_rate_2': 0.4, 'dropout_rate_3': 0.3, 'activation': 'leaky_relu', 'pooling_frequency': 1, 'optimizer': 'rmsprop', 'learning_rate': 0.001, 'batch_size': 64}\n",
            "Score: 0.8604999780654907\n",
            "\n",
            "Trial ID: 06\n",
            "Hyperparameters: {'filter_grid': 2, 'conv_layers': 3, 'kernel_size': 0, 'conv_strides': 1, 'pool_size': 0, 'pool_strides': 1, 'dense_layers': 1, 'dense_neurons': 64, 'dropout_rate_1': 0.0, 'dropout_rate_2': 0.0, 'dropout_rate_3': 0.3, 'activation': 'relu', 'pooling_frequency': 2, 'optimizer': 'rmsprop', 'learning_rate': 0.001, 'batch_size': 32}\n",
            "Score: 0.8813999891281128\n",
            "\n",
            "Trial ID: 07\n",
            "Hyperparameters: {'filter_grid': 3, 'conv_layers': 3, 'kernel_size': 0, 'conv_strides': 1, 'pool_size': 1, 'pool_strides': 1, 'dense_layers': 1, 'dense_neurons': 128, 'dropout_rate_1': 0.3, 'dropout_rate_2': 0.0, 'dropout_rate_3': 0.0, 'activation': 'leaky_relu', 'pooling_frequency': 1, 'optimizer': 'adam', 'learning_rate': 0.0001, 'batch_size': 64}\n",
            "Score: 0.8446999788284302\n",
            "\n",
            "Trial ID: 08\n",
            "Hyperparameters: {'filter_grid': 0, 'conv_layers': 5, 'kernel_size': 0, 'conv_strides': 1, 'pool_size': 1, 'pool_strides': 1, 'dense_layers': 2, 'dense_neurons': 128, 'dropout_rate_1': 0.0, 'dropout_rate_2': 0.2, 'dropout_rate_3': 0.0, 'activation': 'relu', 'pooling_frequency': 2, 'optimizer': 'adam', 'learning_rate': 0.001, 'batch_size': 64}\n",
            "Score: 0.883899986743927\n",
            "\n",
            "Trial ID: 09\n",
            "Hyperparameters: {'filter_grid': 0, 'conv_layers': 4, 'kernel_size': 0, 'conv_strides': 1, 'pool_size': 0, 'pool_strides': 1, 'dense_layers': 2, 'dense_neurons': 64, 'dropout_rate_1': 0.3, 'dropout_rate_2': 0.0, 'dropout_rate_3': 0.3, 'activation': 'leaky_relu', 'pooling_frequency': 1, 'optimizer': 'rmsprop', 'learning_rate': 0.0001, 'batch_size': 32}\n",
            "Score: 0.8626000285148621\n",
            "\n",
            "\u001b[1m625/625\u001b[0m \u001b[32m━━━━━━━━━━━━━━━━━━━━\u001b[0m\u001b[37m\u001b[0m \u001b[1m4s\u001b[0m 6ms/step - accuracy: 0.8899 - loss: 0.2953\n",
            "Test Accuracy: 0.8916500210762024\n"
          ]
        }
      ],
      "source": [
        "for trial in tuner.oracle.trials.values():\n",
        "    print(f\"Trial ID: {trial.trial_id}\")\n",
        "    print(f\"Hyperparameters: {trial.hyperparameters.values}\")\n",
        "    print(f\"Score: {trial.score}\\n\")\n",
        "# Evaluate the best model\n",
        "test_loss, test_accuracy = best_model.evaluate(valid_datagen.flow(test_images, test_labels, batch_size=best_hps.get('batch_size')))\n",
        "print(f\"Test Accuracy: {test_accuracy}\")"
      ]
    }
  ],
  "metadata": {
    "accelerator": "GPU",
    "colab": {
      "gpuType": "T4",
      "provenance": []
    },
    "kernelspec": {
      "display_name": "Python 3",
      "name": "python3"
    },
    "language_info": {
      "codemirror_mode": {
        "name": "ipython",
        "version": 3
      },
      "file_extension": ".py",
      "mimetype": "text/x-python",
      "name": "python",
      "nbconvert_exporter": "python",
      "pygments_lexer": "ipython3",
      "version": "3.10.12"
    }
  },
  "nbformat": 4,
  "nbformat_minor": 0
}
